{
 "cells": [
  {
   "cell_type": "markdown",
   "id": "9f56f990",
   "metadata": {},
   "source": [
    "# 1.Environment"
   ]
  },
  {
   "cell_type": "markdown",
   "id": "6a1de7ac",
   "metadata": {},
   "source": [
    "## 1.1 Importing  packages(libraries) for data analysis/mining"
   ]
  },
  {
   "cell_type": "code",
   "execution_count": null,
   "id": "73b380e3",
   "metadata": {},
   "outputs": [],
   "source": [
    "library(dplyr) \n",
    "library(janitor)\n",
    "library(gridExtra)\n",
    "library(reshape2)\n",
    "library(png)\n",
    "library(stringr)\n",
    "library(plotly)\n",
    "library(ggplot2) \n",
    "library(rworldmap)\n",
    "library(gganimate)\n",
    "#library(ggalt)(not working in Binder)\n",
    "library(ggthemes)\n",
    "library(ggpubr)\n",
    "library(corrplot)\n",
    "library(viridis)\n",
    "library(IRdisplay)\n",
    "library(leaflet)\n",
    "library(maps)\n",
    "display_html(\"<style>.container { width:100% !important; }</style>\")\n",
    "options(warn=-1)"
   ]
  },
  {
   "cell_type": "markdown",
   "id": "71b5ecad",
   "metadata": {},
   "source": [
    "### Importing packages for machine learning"
   ]
  },
  {
   "cell_type": "code",
   "execution_count": null,
   "id": "42eab964",
   "metadata": {},
   "outputs": [],
   "source": [
    "library(caTools)#regression/prediction\n",
    "library(e1071)#regression\n",
    "library(rpart)#regression\n",
    "library(rpart.plot)#regression\n",
    "library(randomForest)#regression\n",
    "library(caret)#regression (main)\n",
    "library(glmnet)#regression\n",
    "library(xgboost)#regression\n",
    "library(elasticnet)#regression\n",
    "#library(kknn)(not working in Binder)#regression\n",
    "library(arm)#regression\n",
    "library(xgboost)#regression\n",
    "library(factoextra)#clustering\n",
    "library(cluster)#clustering\n",
    "library(dbscan)#dbscan cluster\n",
    "library(fpc)#dbscan cluster\n",
    "library(kernlab)#Spectral cluster\n",
    "library(mclust)#GMM cluster"
   ]
  },
  {
   "cell_type": "markdown",
   "id": "519bdefa",
   "metadata": {},
   "source": [
    "#  2. Data"
   ]
  },
  {
   "cell_type": "markdown",
   "id": "ac25887a",
   "metadata": {},
   "source": [
    "## 2.1 Data import"
   ]
  },
  {
   "cell_type": "code",
   "execution_count": null,
   "id": "63a72f55",
   "metadata": {},
   "outputs": [],
   "source": [
    "data2021 <- read.csv(\"https://github.com/madrian98/WorldHappiness-R/blob/main/Data/2021.csv?raw=true\",header=TRUE, sep = \",\")"
   ]
  },
  {
   "cell_type": "markdown",
   "id": "9ae1cb61",
   "metadata": {},
   "source": [
    "### Data info"
   ]
  },
  {
   "cell_type": "code",
   "execution_count": null,
   "id": "f7f3f481",
   "metadata": {},
   "outputs": [],
   "source": [
    "str(data2021)"
   ]
  },
  {
   "cell_type": "markdown",
   "id": "f4714f31",
   "metadata": {},
   "source": [
    "### Data description"
   ]
  },
  {
   "cell_type": "code",
   "execution_count": null,
   "id": "87367587",
   "metadata": {},
   "outputs": [],
   "source": [
    "summary(data2021)"
   ]
  },
  {
   "cell_type": "markdown",
   "id": "4d74c7d6",
   "metadata": {},
   "source": [
    "### Searching for an empty values&duplicates"
   ]
  },
  {
   "cell_type": "code",
   "execution_count": null,
   "id": "bc7adb25",
   "metadata": {},
   "outputs": [],
   "source": [
    "sum(is.na(data2021))\n",
    "sum(duplicated(data2021))"
   ]
  },
  {
   "cell_type": "markdown",
   "id": "a762bd72",
   "metadata": {},
   "source": [
    "### Previewing data from 2021"
   ]
  },
  {
   "cell_type": "code",
   "execution_count": null,
   "id": "e99cc639",
   "metadata": {},
   "outputs": [],
   "source": [
    "head(data2021,10)"
   ]
  },
  {
   "cell_type": "code",
   "execution_count": null,
   "id": "04d25972",
   "metadata": {},
   "outputs": [],
   "source": [
    "data2021 <- data2021 %>% rename(\"Happiness_score\"=\"Ladder.score\",\"Happiness_score_in_Dystopia\"=\"Ladder.score.in.Dystopia\",\"Country_name\"=\"Country.name\")\n",
    "str(data2021)"
   ]
  },
  {
   "cell_type": "markdown",
   "id": "4451670a",
   "metadata": {},
   "source": [
    "### Historical data"
   ]
  },
  {
   "cell_type": "code",
   "execution_count": null,
   "id": "5a2b4927",
   "metadata": {},
   "outputs": [],
   "source": [
    "dataH <- read.csv(\"https://github.com/madrian98/WorldHappiness-R/blob/main/Data/HistoricalData.csv?raw=true\",header=TRUE,sep= ';',dec= ',')"
   ]
  },
  {
   "cell_type": "markdown",
   "id": "bc275b2e",
   "metadata": {},
   "source": [
    "### Data info"
   ]
  },
  {
   "cell_type": "code",
   "execution_count": null,
   "id": "3063ba08",
   "metadata": {},
   "outputs": [],
   "source": [
    "str(dataH)"
   ]
  },
  {
   "cell_type": "markdown",
   "id": "10b5810f",
   "metadata": {},
   "source": [
    "### Data description"
   ]
  },
  {
   "cell_type": "code",
   "execution_count": null,
   "id": "0bfd6a53",
   "metadata": {},
   "outputs": [],
   "source": [
    "summary(dataH)"
   ]
  },
  {
   "cell_type": "markdown",
   "id": "2b13b41a",
   "metadata": {},
   "source": [
    "### Searching for an empty values&duplicates"
   ]
  },
  {
   "cell_type": "code",
   "execution_count": null,
   "id": "5e9de8ed",
   "metadata": {},
   "outputs": [],
   "source": [
    "sum(is.na(dataH))\n",
    "sum(duplicated(dataH))"
   ]
  },
  {
   "cell_type": "markdown",
   "id": "aec54f41",
   "metadata": {},
   "source": [
    "### Previewing historical data"
   ]
  },
  {
   "cell_type": "code",
   "execution_count": null,
   "id": "4b4a62ca",
   "metadata": {},
   "outputs": [],
   "source": [
    "head(dataH,10)"
   ]
  },
  {
   "cell_type": "markdown",
   "id": "857cee56",
   "metadata": {},
   "source": [
    "### Initial data pre-processing"
   ]
  },
  {
   "cell_type": "code",
   "execution_count": null,
   "id": "84bf20e0",
   "metadata": {},
   "outputs": [],
   "source": [
    "dataH <- dataH %>% rename(\"Happiness_score\"=\"Life.Ladder\",\"Country_name\"=\"Country.name\")\n",
    "dataH <-dataH[order(dataH$Country_name, dataH$year),]\n",
    "str(dataH)"
   ]
  },
  {
   "cell_type": "markdown",
   "id": "56dfa03f",
   "metadata": {},
   "source": [
    "## 2.2 Data desciption(2021)"
   ]
  },
  {
   "cell_type": "code",
   "execution_count": null,
   "id": "ab6a39e9",
   "metadata": {},
   "outputs": [],
   "source": [
    "str(data2021)"
   ]
  },
  {
   "cell_type": "markdown",
   "id": "25f25d91",
   "metadata": {},
   "source": [
    "Variables:\n",
    "- Country name.\n",
    "- Regional indicator.\n",
    "- Ladder score(Happiness score).\n",
    "- Standard error of ladder score(happiness score) : standard error of happiness score.\n",
    "- Upperwhisker : upperwhisker of happiness score.\n",
    "- Lowerwhisker : lowerwhistker of happiness score.\n",
    "- Logged GDP per capita: in described country.\n",
    "- Social support : in described country.\n",
    "- Healthy life expectancy : in described country.\n",
    "- Freedom to make life choices : in described country.\n",
    "- Generosity : in described country.\n",
    "- Perceptions of corruption : in described country.\n",
    "- Ladder score in Dystopia(Happiness score) : Dystopia - hyphothetic country with score lower than lowest in dataset.\n",
    "- Explained by: Log GDP per capita.\n",
    "- Explained by: Social support. \n",
    "- Explained by: Healthy life expectancy.\n",
    "- Explained by: Freedom to make life choices.\n",
    "- Explained by: Generosity.\n",
    "- Explained by: Perceptions of corruption.\n",
    "- Dystopia + residual : Residual - other factors which couldn't be grouped as one for described country."
   ]
  },
  {
   "cell_type": "markdown",
   "id": "bbb2fba1",
   "metadata": {},
   "source": [
    "# 3.Data mining"
   ]
  },
  {
   "cell_type": "markdown",
   "id": "3586bd53",
   "metadata": {},
   "source": [
    "### Data distribution (countries per region)"
   ]
  },
  {
   "cell_type": "code",
   "execution_count": null,
   "id": "6c333b4b",
   "metadata": {},
   "outputs": [],
   "source": [
    "reg_21<-data2021 %>% dplyr::select(Regional.indicator,Happiness_score ) %>% group_by(Regional.indicator)%>% summarize(\n",
    "Happiness_score=(count=n()))%>% ungroup() %>% mutate(perc = `Happiness_score` / sum(`Happiness_score`)) %>% arrange(perc) %>% mutate(udzial_procentowy = scales::percent(perc))\n",
    "head(reg_21,10)"
   ]
  },
  {
   "cell_type": "code",
   "execution_count": null,
   "id": "e87d3d16",
   "metadata": {
    "scrolled": false
   },
   "outputs": [],
   "source": [
    "bp<- ggplot(reg_21, aes(x=\"\", y=Happiness_score, fill=Regional.indicator))+\n",
    "    geom_bar(stat = \"identity\")+ geom_label(aes(x=2.0,label = udzial_procentowy),\n",
    "             position = position_stack(vjust = 0.28),\n",
    "show.legend = FALSE)+\n",
    "guides(fill = guide_legend(title = \"Region\")) +\n",
    "theme_bw() +\n",
    "  theme(axis.text.x = element_text(size = 15,face = \"bold\"), axis.title.x = element_text(size = 15,face = \"bold\"),\n",
    "        axis.text.y = element_text(size = 14,face = \"bold\"), axis.title.y = element_text(size = 16,face = \"bold\"),\n",
    "        plot.title = element_text(size = 20, face = \"bold\", color = \"darkgreen\"),\n",
    "       legend.text = element_text(size = 20,face = \"bold\"),legend.title=element_text(size=16,face = \"bold\"))+\n",
    "  scale_fill_viridis(option = \"D\",discrete = T)  \n",
    "bp + coord_polar(\"y\")+labs(title=\"% of countries in each region\",y=\"%\")\n",
    "options(repr.plot.width=25, repr.plot.height=15)"
   ]
  },
  {
   "cell_type": "markdown",
   "id": "d4685753",
   "metadata": {},
   "source": [
    "### Average values for each region"
   ]
  },
  {
   "cell_type": "code",
   "execution_count": null,
   "id": "b2279c44",
   "metadata": {},
   "outputs": [],
   "source": [
    "regions <- data2021 %>%\n",
    "  dplyr::select(2,3,7,8,9,10,11,12,20) %>%\n",
    "  group_by(Regional.indicator) %>%\n",
    "  summarise_if(is.numeric, funs(mean)) %>%\n",
    "  arrange(desc(Happiness_score))"
   ]
  },
  {
   "cell_type": "code",
   "execution_count": null,
   "id": "04f5e511",
   "metadata": {},
   "outputs": [],
   "source": [
    "head(regions,10)"
   ]
  },
  {
   "cell_type": "markdown",
   "id": "3dba6588",
   "metadata": {},
   "source": [
    "#### Graph results"
   ]
  },
  {
   "cell_type": "code",
   "execution_count": null,
   "id": "e9cc4c46",
   "metadata": {},
   "outputs": [],
   "source": [
    "regions.a <- melt(regions[, -c(4,5,6,7,8)])\n",
    "regions.b <- melt(regions[, -c(2,3,5,9)])\n",
    "regions.c <- melt(regions[, -c(2,3,4,6,7,8,9)])\n",
    "p <- ggplot(regions.a, aes(x = Regional.indicator, -value, y = value, fill = Regional.indicator)) +\n",
    "  geom_bar(stat = 'identity') +\n",
    "  facet_wrap(~variable) +\n",
    "  theme_bw() +\n",
    "  theme(axis.text.x = element_text(size = 7,face = \"bold\"), axis.title.x = element_text(size = 7,face = \"bold\"),\n",
    "        axis.text.y = element_text(size = 14,face = \"bold\"), axis.title.y = element_text(size = 16,face = \"bold\"),\n",
    "        plot.title = element_text(size = 20, face = \"bold\", color = \"darkgreen\"),\n",
    "       legend.text = element_text(size = 20,face = \"bold\"),legend.title=element_text(size=16,face = \"bold\"))+\n",
    "  scale_fill_viridis(option = \"D\",discrete = T)+\n",
    "  labs(title = \"Average values for each region\") +\n",
    "  guides(fill = guide_legend(title = \"Region\"))+ \n",
    "  xlab('') + ylab('')\n",
    "p\n",
    "p <- ggplot(regions.b, aes(x = Regional.indicator, -value, y = value, fill = Regional.indicator)) +\n",
    "  geom_bar(stat = 'identity') +\n",
    "  facet_wrap(~variable) +\n",
    "  theme_bw() +\n",
    "  theme(axis.text.x = element_text(size = 7,face = \"bold\"), axis.title.x = element_text(size = 7,face = \"bold\"),\n",
    "        axis.text.y = element_text(size = 14,face = \"bold\"), axis.title.y = element_text(size = 16,face = \"bold\"),\n",
    "        plot.title = element_text(size = 20, face = \"bold\", color = \"darkgreen\"),\n",
    "       legend.text = element_text(size = 20,face = \"bold\"),legend.title=element_text(size=16,face = \"bold\"))+\n",
    "  scale_fill_viridis(option = \"D\",discrete = T)+\n",
    "  guides(fill = guide_legend(title = \"Region\"))+ \n",
    "  xlab('') + ylab('')\n",
    "p\n",
    "p <- ggplot(regions.c, aes(x = Regional.indicator, -value, y = value, fill = Regional.indicator)) +\n",
    "  geom_bar(stat = 'identity') +\n",
    "  facet_wrap(~variable) +\n",
    "  theme_bw() +\n",
    "  theme(axis.text.x = element_text(size = 7,face = \"bold\"), axis.title.x = element_text(size = 7,face = \"bold\"),\n",
    "        axis.text.y = element_text(size = 14,face = \"bold\"), axis.title.y = element_text(size = 16,face = \"bold\"),\n",
    "        plot.title = element_text(size = 20, face = \"bold\", color = \"darkgreen\"),\n",
    "       legend.text = element_text(size = 20,face = \"bold\"),legend.title=element_text(size=16,face = \"bold\"))+\n",
    "  scale_fill_viridis(option = \"D\",discrete = T)+\n",
    "  guides(fill = guide_legend(title = \"Region\"))+ \n",
    "  xlab('') + ylab('')\n",
    "p\n",
    "options(repr.plot.width=45, repr.plot.height=20)"
   ]
  },
  {
   "cell_type": "markdown",
   "id": "a485c607",
   "metadata": {},
   "source": [
    "### Data distribution based on region"
   ]
  },
  {
   "cell_type": "code",
   "execution_count": null,
   "id": "7662a619",
   "metadata": {},
   "outputs": [],
   "source": [
    "data2021 %>%\n",
    "ggplot(aes(x=Regional.indicator,y=Happiness_score,fill=Regional.indicator))+\n",
    "geom_boxplot()+\n",
    "labs(title = \"Happiness score in regions\", \n",
    "         y = \"Happiness score\" , x = \"Region\")+\n",
    "theme_bw() +\n",
    "  theme(axis.text.x = element_text(size = 13,face = \"bold\"), axis.title.x = element_text(size = 13,face = \"bold\"),\n",
    "        axis.text.y = element_text(size = 14,face = \"bold\"), axis.title.y = element_text(size = 16,face = \"bold\"),\n",
    "        plot.title = element_text(size = 20, face = \"bold\", color = \"darkgreen\"),\n",
    "       legend.text = element_text(size = 20,face = \"bold\"),legend.title=element_text(size=16,face = \"bold\"))+\n",
    "    scale_fill_viridis(option = \"D\",discrete = T,name = \"Region\")+\n",
    "coord_flip()\n",
    "options(repr.plot.width=35, repr.plot.height=20)"
   ]
  },
  {
   "cell_type": "code",
   "execution_count": null,
   "id": "9358997c",
   "metadata": {},
   "outputs": [],
   "source": [
    "# GDP\n",
    "\n",
    "data2021 %>%\n",
    "ggplot(aes(x=Regional.indicator,y=Logged.GDP.per.capita,fill=Regional.indicator))+\n",
    "geom_boxplot()+\n",
    "labs(title = \"Distribution of logged GDP per capita in each region\", \n",
    "         y = \"Logged GDP per capita\" , x = \"Region\")+\n",
    "theme_bw() +\n",
    "  theme(axis.text.x = element_text(size = 13,face = \"bold\"), axis.title.x = element_text(size = 13,face = \"bold\"),\n",
    "        axis.text.y = element_text(size = 14,face = \"bold\"), axis.title.y = element_text(size = 16,face = \"bold\"),\n",
    "        plot.title = element_text(size = 20, face = \"bold\", color = \"darkgreen\"),\n",
    "       legend.text = element_text(size = 20,face = \"bold\"),legend.title=element_text(size=16,face = \"bold\"))+\n",
    "    scale_fill_viridis(option = \"D\",discrete = T,name = \"Region\")+\n",
    "coord_flip()\n",
    "options(repr.plot.width=35, repr.plot.height=20)"
   ]
  },
  {
   "cell_type": "code",
   "execution_count": null,
   "id": "6e5f89a2",
   "metadata": {},
   "outputs": [],
   "source": [
    "# Social support\n",
    "\n",
    "data2021 %>%\n",
    "ggplot(aes(x=Regional.indicator,y=Social.support,fill=Regional.indicator))+\n",
    "geom_boxplot()+\n",
    "labs(title = \"Distribution of social support in each region\", \n",
    "         y = \"Social support\" , x = \"Region\")+\n",
    "theme_bw() +\n",
    "    theme(axis.text.x = element_text(size = 13,face = \"bold\"), axis.title.x = element_text(size = 13,face = \"bold\"),\n",
    "        axis.text.y = element_text(size = 14,face = \"bold\"), axis.title.y = element_text(size = 16,face = \"bold\"),\n",
    "        plot.title = element_text(size = 20, face = \"bold\", color = \"darkgreen\"),\n",
    "       legend.text = element_text(size = 20,face = \"bold\"),legend.title=element_text(size=16,face = \"bold\"))+\n",
    "    scale_fill_viridis(option = \"D\",discrete = T,name = \"Region\")+\n",
    "coord_flip()\n",
    "options(repr.plot.width=35, repr.plot.height=20)"
   ]
  },
  {
   "cell_type": "code",
   "execution_count": null,
   "id": "47c8e5a6",
   "metadata": {},
   "outputs": [],
   "source": [
    "#Healthy.life.expectancy\n",
    "\n",
    "data2021 %>%\n",
    "ggplot(aes(x=Regional.indicator,y=Healthy.life.expectancy,fill=Regional.indicator))+\n",
    "geom_boxplot()+\n",
    "labs(title = \"Distribution of healty life expectancy in each region\", \n",
    "         y = \"Healty life expectancy\" , x = \"Region\")+\n",
    "theme_bw() +\n",
    "    theme(axis.text.x = element_text(size = 13,face = \"bold\"), axis.title.x = element_text(size = 13,face = \"bold\"),\n",
    "        axis.text.y = element_text(size = 14,face = \"bold\"), axis.title.y = element_text(size = 16,face = \"bold\"),\n",
    "        plot.title = element_text(size = 20, face = \"bold\", color = \"darkgreen\"),\n",
    "       legend.text = element_text(size = 20,face = \"bold\"),legend.title=element_text(size=16,face = \"bold\"))+\n",
    "    scale_fill_viridis(option = \"D\",discrete = T,name = \"Region\")+\n",
    "coord_flip()\n",
    "options(repr.plot.width=35, repr.plot.height=20)"
   ]
  },
  {
   "cell_type": "code",
   "execution_count": null,
   "id": "d7538d70",
   "metadata": {},
   "outputs": [],
   "source": [
    "#Freedom to make life choices\n",
    "\n",
    "data2021 %>%\n",
    "ggplot(aes(x=Regional.indicator,y=Freedom.to.make.life.choices,fill=Regional.indicator))+\n",
    "geom_boxplot()+\n",
    "labs(title = \"Distribution of freedom to make life choices in each region\", \n",
    "         y = \"Freedom to make life choices\" , x = \"Region\")+\n",
    "theme_bw() +\n",
    "   theme(axis.text.x = element_text(size = 13,face = \"bold\"), axis.title.x = element_text(size = 13,face = \"bold\"),\n",
    "        axis.text.y = element_text(size = 14,face = \"bold\"), axis.title.y = element_text(size = 16,face = \"bold\"),\n",
    "        plot.title = element_text(size = 20, face = \"bold\", color = \"darkgreen\"),\n",
    "       legend.text = element_text(size = 20,face = \"bold\"),legend.title=element_text(size=16,face = \"bold\"))+\n",
    "    scale_fill_viridis(option = \"D\",discrete = T,name = \"Region\")+\n",
    "coord_flip()\n",
    "options(repr.plot.width=35, repr.plot.height=20)"
   ]
  },
  {
   "cell_type": "code",
   "execution_count": null,
   "id": "97695d0a",
   "metadata": {},
   "outputs": [],
   "source": [
    "#Generosity\n",
    "\n",
    "data2021 %>%\n",
    "ggplot(aes(x=Regional.indicator,y=Generosity,fill=Regional.indicator))+\n",
    "geom_boxplot()+\n",
    "labs(title = \"Distribution of generosity in each region\", \n",
    "         y = \"Generosity\" , x = \"Region\")+\n",
    "theme_bw() +\n",
    "    theme(axis.text.x = element_text(size = 13,face = \"bold\"), axis.title.x = element_text(size = 13,face = \"bold\"),\n",
    "        axis.text.y = element_text(size = 14,face = \"bold\"), axis.title.y = element_text(size = 16,face = \"bold\"),\n",
    "        plot.title = element_text(size = 20, face = \"bold\", color = \"darkgreen\"),\n",
    "       legend.text = element_text(size = 20,face = \"bold\"),legend.title=element_text(size=16,face = \"bold\"))+\n",
    "    scale_fill_viridis(option = \"D\",discrete = T,name = \"Region\")+\n",
    "coord_flip()\n",
    "options(repr.plot.width=35, repr.plot.height=20)"
   ]
  },
  {
   "cell_type": "code",
   "execution_count": null,
   "id": "f5e4d14d",
   "metadata": {},
   "outputs": [],
   "source": [
    "#Perceptions of corruption\n",
    "\n",
    "data2021 %>%\n",
    "ggplot(aes(x=Regional.indicator,y=Perceptions.of.corruption,fill=Regional.indicator))+\n",
    "geom_boxplot()+\n",
    "labs(title = \"Distribition of perceptions of corruption in each region\", \n",
    "         y = \"Perceptions of corruption\" , x = \"Region\")+\n",
    "theme_bw() +\n",
    "  theme(axis.text.x = element_text(size = 13,face = \"bold\"), axis.title.x = element_text(size = 13,face = \"bold\"),\n",
    "        axis.text.y = element_text(size = 14,face = \"bold\"), axis.title.y = element_text(size = 16,face = \"bold\"),\n",
    "        plot.title = element_text(size = 20, face = \"bold\", color = \"darkgreen\"),\n",
    "       legend.text = element_text(size = 20,face = \"bold\"),legend.title=element_text(size=16,face = \"bold\"))+\n",
    "   scale_fill_viridis(option = \"D\",discrete = T,name = \"Region\")+\n",
    "coord_flip()\n",
    "options(repr.plot.width=35, repr.plot.height=20)"
   ]
  },
  {
   "cell_type": "code",
   "execution_count": null,
   "id": "296d3f6e",
   "metadata": {},
   "outputs": [],
   "source": [
    "#Dystopia+Residual\n",
    "\n",
    "data2021 %>%\n",
    "ggplot(aes(x=Regional.indicator,y=Dystopia...residual,fill=Regional.indicator))+\n",
    "geom_boxplot()+\n",
    "labs(title = \"Distribution of Dystopia+residual in each region\", \n",
    "         y = \"Dystopia+Residual\" , x = \"Region\")+\n",
    "theme_bw() +\n",
    "    theme(axis.text.x = element_text(size = 13,face = \"bold\"), axis.title.x = element_text(size = 13,face = \"bold\"),\n",
    "        axis.text.y = element_text(size = 14,face = \"bold\"), axis.title.y = element_text(size = 16,face = \"bold\"),\n",
    "        plot.title = element_text(size = 20, face = \"bold\", color = \"darkgreen\"),\n",
    "       legend.text = element_text(size = 20,face = \"bold\"),legend.title=element_text(size=16,face = \"bold\"))+\n",
    "  scale_fill_viridis(option = \"D\",discrete = T,name = \"Region\")+\n",
    "coord_flip()\n",
    "options(repr.plot.width=25, repr.plot.height=15)"
   ]
  },
  {
   "cell_type": "markdown",
   "id": "0015fff0",
   "metadata": {},
   "source": [
    "###  Countries with highest and lowest happiness score"
   ]
  },
  {
   "cell_type": "code",
   "execution_count": null,
   "id": "8a6ac8d8",
   "metadata": {},
   "outputs": [],
   "source": [
    "data2021 %>% \n",
    "  top_n(10,Happiness_score) %>%\n",
    "  mutate(Country_name=reorder(Country_name,Happiness_score))%>%\n",
    "  ggplot(aes(x=Country_name,y=Happiness_score,fill=Happiness_score))+\n",
    "  geom_bar(stat = \"identity\")+\n",
    "  xlab(\"Country\")+\n",
    "  ylab(\"Happiness score\")+\n",
    "  ggtitle(\"Countries with highest happiness score\")+\n",
    "  coord_flip()+\n",
    " theme_bw() +\n",
    "  theme(axis.text.x = element_text(size = 14), axis.title.x = element_text(size = 16),\n",
    "        axis.text.y = element_text(size = 14), axis.title.y = element_text(size = 16),\n",
    "        plot.title = element_text(size = 20, face = \"bold\", color = \"darkgreen\"),\n",
    "       legend.text = element_text(size = 20),legend.title=element_text(size=16))+\n",
    "  scale_fill_viridis(option = \"D\",name = \"Happiness score\")\n",
    "options(repr.plot.width=35, repr.plot.height=20)"
   ]
  },
  {
   "cell_type": "code",
   "execution_count": null,
   "id": "c3b9c04b",
   "metadata": {},
   "outputs": [],
   "source": [
    "data2021 %>% \n",
    "  top_n(-10,Happiness_score) %>%\n",
    "  mutate(Country_name=reorder(Country_name,Happiness_score))%>%\n",
    "  ggplot(aes(x=Country_name,y=Happiness_score,fill=Happiness_score))+\n",
    "  geom_bar(stat = \"identity\")+\n",
    "  xlab(\"Country\")+\n",
    "  ylab(\"Happiness score\")+\n",
    "  ggtitle(\"Countries with lowest happiness score\")+\n",
    "  coord_flip()+\n",
    "  theme_bw() +\n",
    "  theme(axis.text.x = element_text(size = 14), axis.title.x = element_text(size = 16),\n",
    "        axis.text.y = element_text(size = 14), axis.title.y = element_text(size = 16),\n",
    "        plot.title = element_text(size = 20, face = \"bold\", color = \"darkgreen\"),\n",
    "       legend.text = element_text(size = 20),legend.title=element_text(size=16))+\n",
    "  scale_fill_viridis(option = \"D\",name = \"Happiness score\")\n",
    "options(repr.plot.width=35, repr.plot.height=20)"
   ]
  },
  {
   "cell_type": "markdown",
   "id": "782464bd",
   "metadata": {},
   "source": [
    "## Variable influence for countries with highest and lowest happiness score"
   ]
  },
  {
   "cell_type": "code",
   "execution_count": null,
   "id": "ec014077",
   "metadata": {},
   "outputs": [],
   "source": [
    "top10<-data2021 %>% dplyr::select(Country_name,14,15,16,17,18,19,20) %>% head(n=10)\n",
    "                                                                                                          \n",
    "top10 %>%\n",
    "  group_by(Country_name)%>%\n",
    "  summarise_each(list(mean)) %>%\n",
    "  melt(id=\"Country_name\")%>%\n",
    "  ggplot(aes(x=Country_name,y=value,fill=variable))+\n",
    "  geom_bar(position=\"fill\",stat=\"identity\")+\n",
    "  labs(title = \"Variables influence of countries with highest happiness score\", \n",
    "         y = \"%\" , x = \"Country\")+\n",
    " coord_flip()+\n",
    " theme_bw() +\n",
    "  theme(axis.text.x = element_text(size = 7,face = \"bold\"), axis.title.x = element_text(size = 7,face = \"bold\"),\n",
    "        axis.text.y = element_text(size = 14,face = \"bold\"), axis.title.y = element_text(size = 16,face = \"bold\"),\n",
    "        plot.title = element_text(size = 20, face = \"bold\", color = \"darkgreen\"),\n",
    "       legend.text = element_text(size = 20,face = \"bold\"),legend.title=element_text(size=16,face = \"bold\"))+\n",
    "  scale_fill_viridis(option = \"D\",discrete = T,name = \"Variable\")\n",
    "\n",
    "options(repr.plot.width=35, repr.plot.height=20)"
   ]
  },
  {
   "cell_type": "code",
   "execution_count": null,
   "id": "4fdfda2e",
   "metadata": {},
   "outputs": [],
   "source": [
    "bottom10<-data2021 %>% dplyr::select(Country_name,14,15,16,17,18,19,20) %>% tail(n=10) \n",
    "\n",
    "bottom10 %>%\n",
    "  group_by(Country_name)%>%\n",
    "  summarise_each(list(mean)) %>%\n",
    "  melt(id=\"Country_name\")%>%\n",
    "  ggplot(aes(x=Country_name,y=value,fill=variable))+\n",
    "  geom_bar(position=\"fill\",stat=\"identity\")+\n",
    "  labs(title = \"Variables influence of countries with lowest happiness score\", \n",
    "         y = \"%\" , x = \"Country\")+\n",
    " coord_flip()+\n",
    "  theme_bw() +\n",
    "  theme(axis.text.x = element_text(size = 7,face = \"bold\"), axis.title.x = element_text(size = 7,face = \"bold\"),\n",
    "        axis.text.y = element_text(size = 14,face = \"bold\"), axis.title.y = element_text(size = 16,face = \"bold\"),\n",
    "        plot.title = element_text(size = 20, face = \"bold\", color = \"darkgreen\"),\n",
    "       legend.text = element_text(size = 20,face = \"bold\"),legend.title=element_text(size=16,face = \"bold\"))+\n",
    "  scale_fill_viridis(option = \"D\",discrete = T,name = \"Variable\")\n",
    "options(repr.plot.width=35, repr.plot.height=20)"
   ]
  },
  {
   "cell_type": "markdown",
   "id": "99e27cc8",
   "metadata": {},
   "source": [
    "### Variables influence of regions"
   ]
  },
  {
   "cell_type": "code",
   "execution_count": null,
   "id": "f315d435",
   "metadata": {
    "scrolled": false
   },
   "outputs": [],
   "source": [
    "data2021 %>%\n",
    "  dplyr::select(2,14,15,16,17,18,19,20)%>%\n",
    "  group_by(Regional.indicator)%>%\n",
    "  summarise_each(list(mean)) %>%\n",
    "  melt(id=\"Regional.indicator\")%>%\n",
    "  ggplot(aes(x=Regional.indicator,y=value,fill=variable))+\n",
    "  geom_bar(position=\"fill\",stat=\"identity\")+\n",
    "  labs(title = \"Variables influence of regions\", \n",
    "         y = \"%\" , x = \"Region\")+\n",
    " coord_flip()+\n",
    "theme(legend.text = element_text(size = 25))+\n",
    "   theme_bw() +\n",
    "  theme(axis.text.x = element_text(size = 7,face = \"bold\"), axis.title.x = element_text(size = 7,face = \"bold\"),\n",
    "        axis.text.y = element_text(size = 14,face = \"bold\"), axis.title.y = element_text(size = 16,face = \"bold\"),\n",
    "        plot.title = element_text(size = 20, face = \"bold\", color = \"darkgreen\"),\n",
    "       legend.text = element_text(size = 20,face = \"bold\"),legend.title=element_text(size=16,face = \"bold\"))+\n",
    "  scale_fill_viridis(option = \"D\",discrete = T,name = \"Variable\")\n",
    "options(repr.plot.width=35, repr.plot.height=20)"
   ]
  },
  {
   "cell_type": "markdown",
   "id": "ec71848f",
   "metadata": {},
   "source": [
    "### Relation between happiness score and variables which directly influence on it."
   ]
  },
  {
   "cell_type": "code",
   "execution_count": null,
   "id": "86f987e6",
   "metadata": {
    "scrolled": false
   },
   "outputs": [],
   "source": [
    "# GDP\n",
    "\n",
    "cbbPalette <- c(\"#000000\",\"#999999\", \"#E69F00\", \"#56B4E9\", \"#009E73\", \"#F0E442\", \"#0072B2\", \"#D55E00\", \"#CC79A7\",\"#A020F0\")\n",
    "ggplot(data2021,aes(x=Happiness_score,y=Logged.GDP.per.capita,color=Regional.indicator,size=Logged.GDP.per.capita))+geom_point(alpha=0.8)+labs(title=\"Relation between happiness score and Logged GDP\", y = \"Logged GDP\" , x = \"Happiness score\",size=\"Logged GDP\",color=\"Region\")+theme_bw() +\n",
    "theme(axis.text.x = element_text(size = 14,face = \"bold\"), axis.title.x = element_text(size = 14,face = \"bold\"),\n",
    "        axis.text.y = element_text(size = 14,face = \"bold\"), axis.title.y = element_text(size = 16,face = \"bold\"),\n",
    "        plot.title = element_text(size = 20, face = \"bold\", color = \"darkgreen\"),\n",
    "       legend.text = element_text(size = 20,face = \"bold\"),legend.title=element_text(size=16,face = \"bold\"))+\n",
    "  scale_fill_viridis(option = \"D\",discrete = T)+\n",
    " scale_colour_manual(values=cbbPalette)"
   ]
  },
  {
   "cell_type": "code",
   "execution_count": null,
   "id": "172ab69d",
   "metadata": {},
   "outputs": [],
   "source": [
    "# Social support\n",
    "\n",
    "cbbPalette <- c(\"#000000\",\"#999999\", \"#E69F00\", \"#56B4E9\", \"#009E73\", \"#F0E442\", \"#0072B2\", \"#D55E00\", \"#CC79A7\",\"#A020F0\")\n",
    "ggplot(data2021,aes(x=Happiness_score,y=Social.support,color=Regional.indicator,size=Social.support))+geom_point(alpha=0.8)+labs(title=\"Relation between happiness score and social support\", y = \"Social support\" , x = \"Happiness score\",size=\"Social support\",color=\"Region\")+theme_bw() +\n",
    "  theme(axis.text.x = element_text(size = 14,face = \"bold\"), axis.title.x = element_text(size = 14,face = \"bold\"),\n",
    "        axis.text.y = element_text(size = 14,face = \"bold\"), axis.title.y = element_text(size = 16,face = \"bold\"),\n",
    "        plot.title = element_text(size = 20, face = \"bold\", color = \"darkgreen\"),\n",
    "       legend.text = element_text(size = 20,face = \"bold\"),legend.title=element_text(size=16,face = \"bold\"))+\n",
    "  scale_fill_viridis(option = \"D\",discrete = T)+\n",
    " scale_colour_manual(values=cbbPalette)"
   ]
  },
  {
   "cell_type": "code",
   "execution_count": null,
   "id": "68abada6",
   "metadata": {},
   "outputs": [],
   "source": [
    "# Healthy life expectancy\n",
    "\n",
    "cbbPalette <- c(\"#000000\",\"#999999\", \"#E69F00\", \"#56B4E9\", \"#009E73\", \"#F0E442\", \"#0072B2\", \"#D55E00\", \"#CC79A7\",\"#A020F0\")\n",
    "ggplot(data2021,aes(x=Happiness_score,y=Healthy.life.expectancy,color=Regional.indicator,size=Healthy.life.expectancy))+geom_point(alpha=0.8)+labs(title=\"Relation between happiness score and healthy life expectancy\", y = \"Healthy life expectancy\" ,x = \"Happiness score\",size=\"Healthy life expectancy\",color=\"Region\")+theme_bw() +\n",
    "  theme(axis.text.x = element_text(size = 14,face = \"bold\"), axis.title.x = element_text(size = 14,face = \"bold\"),\n",
    "        axis.text.y = element_text(size = 14,face = \"bold\"), axis.title.y = element_text(size = 16,face = \"bold\"),\n",
    "        plot.title = element_text(size = 20, face = \"bold\", color = \"darkgreen\"),\n",
    "       legend.text = element_text(size = 20,face = \"bold\"),legend.title=element_text(size=16,face = \"bold\"))+\n",
    "  scale_fill_viridis(option = \"D\",discrete = T)+\n",
    " scale_colour_manual(values=cbbPalette)"
   ]
  },
  {
   "cell_type": "code",
   "execution_count": null,
   "id": "ab6d8c24",
   "metadata": {},
   "outputs": [],
   "source": [
    "#Freedom to make life choices\n",
    "\n",
    "cbbPalette <- c(\"#000000\",\"#999999\", \"#E69F00\", \"#56B4E9\", \"#009E73\", \"#F0E442\", \"#0072B2\", \"#D55E00\", \"#CC79A7\",\"#A020F0\")\n",
    "ggplot(data2021,aes(x=Happiness_score,y=Freedom.to.make.life.choices,color=Regional.indicator,size=Freedom.to.make.life.choices))+geom_point(alpha=0.8)+labs(title=\"Relation between happiness score and freedom to make life choices\", y = \"Freedom to make life choices\" , x = \"Happiness score\",size=\"Freedom to make life choices\",color=\"Region\")+theme_bw() +\n",
    "theme(axis.text.x = element_text(size = 14,face = \"bold\"), axis.title.x = element_text(size = 14,face = \"bold\"),\n",
    "        axis.text.y = element_text(size = 14,face = \"bold\"), axis.title.y = element_text(size = 16,face = \"bold\"),\n",
    "        plot.title = element_text(size = 20, face = \"bold\", color = \"darkgreen\"),\n",
    "       legend.text = element_text(size = 20,face = \"bold\"),legend.title=element_text(size=16,face = \"bold\"))+\n",
    "  scale_fill_viridis(option = \"D\",discrete = T)+\n",
    " scale_colour_manual(values=cbbPalette)"
   ]
  },
  {
   "cell_type": "code",
   "execution_count": null,
   "id": "9b9c700f",
   "metadata": {},
   "outputs": [],
   "source": [
    "#Generosity\n",
    "\n",
    "cbbPalette <- c(\"#000000\",\"#999999\", \"#E69F00\", \"#56B4E9\", \"#009E73\", \"#F0E442\", \"#0072B2\", \"#D55E00\", \"#CC79A7\",\"#A020F0\")\n",
    "ggplot(data2021,aes(x=Happiness_score,y=Generosity,color=Regional.indicator,size=Generosity))+geom_point(alpha=0.8)+labs(title=\"Relation between happiness score and generosity\", y = \"Generosity\" , x = \"Happiness score\",size=\"Generosity\",color=\"Region\")+theme_bw() +\n",
    "  theme(axis.text.x = element_text(size = 14,face = \"bold\"), axis.title.x = element_text(size = 14,face = \"bold\"),\n",
    "        axis.text.y = element_text(size = 14,face = \"bold\"), axis.title.y = element_text(size = 16,face = \"bold\"),\n",
    "        plot.title = element_text(size = 20, face = \"bold\", color = \"darkgreen\"),\n",
    "       legend.text = element_text(size = 20,face = \"bold\"),legend.title=element_text(size=16,face = \"bold\"))+\n",
    "  scale_fill_viridis(option = \"D\",discrete = T)+\n",
    " scale_colour_manual(values=cbbPalette)"
   ]
  },
  {
   "cell_type": "code",
   "execution_count": null,
   "id": "697a1cbf",
   "metadata": {},
   "outputs": [],
   "source": [
    "#Perceptions of corruption\n",
    "\n",
    "cbbPalette <- c(\"#000000\",\"#999999\", \"#E69F00\", \"#56B4E9\", \"#009E73\", \"#F0E442\", \"#0072B2\", \"#D55E00\", \"#CC79A7\",\"#A020F0\")\n",
    "ggplot(data2021,aes(x=Happiness_score,y=Perceptions.of.corruption,color=Regional.indicator,size=Perceptions.of.corruption))+geom_point(alpha=0.8)+labs(title=\"Relation between happiness score and perceptions of corruption\", y = \"Perceptions of corruption\" , x = \"Happiness score\",size=\"Perceptions of corruption\",color=\"Region\")+theme_bw() +\n",
    "   theme(axis.text.x = element_text(size = 14,face = \"bold\"), axis.title.x = element_text(size = 14,face = \"bold\"),\n",
    "        axis.text.y = element_text(size = 14,face = \"bold\"), axis.title.y = element_text(size = 16,face = \"bold\"),\n",
    "        plot.title = element_text(size = 20, face = \"bold\", color = \"darkgreen\"),\n",
    "       legend.text = element_text(size = 20,face = \"bold\"),legend.title=element_text(size=16,face = \"bold\"))+\n",
    "  scale_fill_viridis(option = \"D\",discrete = T)+\n",
    " scale_colour_manual(values=cbbPalette)"
   ]
  },
  {
   "cell_type": "code",
   "execution_count": null,
   "id": "8983f5d3",
   "metadata": {},
   "outputs": [],
   "source": [
    "#Dystopia...residual\n",
    "\n",
    "cbbPalette <- c(\"#000000\",\"#999999\", \"#E69F00\", \"#56B4E9\", \"#009E73\", \"#F0E442\", \"#0072B2\", \"#D55E00\", \"#CC79A7\",\"#A020F0\")\n",
    "ggplot(data2021,aes(x=Happiness_score,y=Dystopia...residual,color=Regional.indicator,size=Dystopia...residual))+geom_point(alpha=0.8)+labs(title=\"Relation between happiness score and Dystopia + residual\", y = \"Dystopia+Residual\" , x = \"Happiness score\",size=\"Dystopia+Residual\",color=\"Region\")+theme_bw() +\n",
    "    theme(axis.text.x = element_text(size = 14,face = \"bold\"), axis.title.x = element_text(size = 14,face = \"bold\"),\n",
    "        axis.text.y = element_text(size = 14,face = \"bold\"), axis.title.y = element_text(size = 16,face = \"bold\"),\n",
    "        plot.title = element_text(size = 20, face = \"bold\", color = \"darkgreen\"),\n",
    "       legend.text = element_text(size = 20,face = \"bold\"),legend.title=element_text(size=16,face = \"bold\"))+\n",
    "  scale_fill_viridis(option = \"D\",discrete = T)+\n",
    " scale_colour_manual(values=cbbPalette)"
   ]
  },
  {
   "cell_type": "markdown",
   "id": "c3219526",
   "metadata": {},
   "source": [
    "### 2021 data correlation"
   ]
  },
  {
   "cell_type": "code",
   "execution_count": null,
   "id": "4a69a1bc",
   "metadata": {
    "scrolled": false
   },
   "outputs": [],
   "source": [
    "data2021 %>% dplyr::select(3,7,8,9,10,11,12,20) %>% cor() %>% \n",
    "  corrplot::corrplot(method = \"number\",type = \"lower\",tl.cex = 1,number.cex = 1,cl.cex = 1,title=\"2021 data correlation\", sig.level = 0.05, insig = \"blank\",mar=c(0,0,1,0),col = c('white', 'black'), bg = 'gold2' )\n",
    "options(repr.plot.width=30, repr.plot.height=30)"
   ]
  },
  {
   "cell_type": "markdown",
   "id": "5786715c",
   "metadata": {},
   "source": [
    "## 3.2 Data visualization with maps"
   ]
  },
  {
   "cell_type": "markdown",
   "id": "081bd72b",
   "metadata": {},
   "source": [
    "### 2021 data"
   ]
  },
  {
   "cell_type": "markdown",
   "id": "91d09f0b",
   "metadata": {},
   "source": [
    "#### Adjusting country names for missing ones in joinCountryData2Map ( wrong country names)"
   ]
  },
  {
   "cell_type": "code",
   "execution_count": null,
   "id": "f69e3740",
   "metadata": {},
   "outputs": [],
   "source": [
    "data2021$Country_name[data2021$Country_name==\"Taiwan Province of China\"]<-\"Taiwan\"\n",
    "data2021$Country_name[data2021$Country_name==\"Hong Kong S.A.R. of China\"]<-\"Hong Kong\"\n",
    "data2021$Country_name[data2021$Country_name==\"North Macedonia\"]<-\"Macedonia\"\n",
    "data2021$Country_name[data2021$Country_name==\"Palestinian Territories\"]<-\"Palestine\"\n",
    "data2021$Country_name[data2021$Country_name==\"North Cyprus\"]<-\"Cyprus\""
   ]
  },
  {
   "cell_type": "markdown",
   "id": "c4555801",
   "metadata": {},
   "source": [
    "### Maps"
   ]
  },
  {
   "cell_type": "code",
   "execution_count": null,
   "id": "62787bdf",
   "metadata": {
    "scrolled": true
   },
   "outputs": [],
   "source": [
    "df <- data.frame(country = data2021$Country_name,\n",
    "  value = data2021$Happiness_score)\n",
    "\n",
    "j <- joinCountryData2Map(df, joinCode = \"NAME\", nameJoinColumn = \"country\")\n",
    "\n",
    "mapCountryData(j, nameColumnToPlot = \"value\", \n",
    "              mapTitle = \"World map - happiness score\", \n",
    "               colourPalette = 'rainbow')\n",
    "options(repr.plot.width=25, repr.plot.height=15)"
   ]
  },
  {
   "cell_type": "code",
   "execution_count": null,
   "id": "a6cab79f",
   "metadata": {},
   "outputs": [],
   "source": [
    "df <- data.frame(country = data2021$Country_name,\n",
    "  value = data2021$Social.support)\n",
    "\n",
    "j <- joinCountryData2Map(df, joinCode = \"NAME\", nameJoinColumn = \"country\")\n",
    "\n",
    "mapCountryData(j, nameColumnToPlot = \"value\", \n",
    "               mapTitle = \"World map - social support\", \n",
    "               colourPalette = 'rainbow')\n",
    "options(repr.plot.width=25, repr.plot.height=15)"
   ]
  },
  {
   "cell_type": "code",
   "execution_count": null,
   "id": "526767ed",
   "metadata": {},
   "outputs": [],
   "source": [
    "df <- data.frame(country = data2021$Country_name,\n",
    "  value = data2021$Logged.GDP.per.capita)\n",
    "\n",
    "j <- joinCountryData2Map(df, joinCode = \"NAME\", nameJoinColumn = \"country\")\n",
    "\n",
    "mapCountryData(j, nameColumnToPlot = \"value\", \n",
    "               mapTitle = \"World map - logged GDP per capita\", \n",
    "               colourPalette = 'rainbow')\n",
    "options(repr.plot.width=25, repr.plot.height=15)"
   ]
  },
  {
   "cell_type": "code",
   "execution_count": null,
   "id": "4b0f130f",
   "metadata": {},
   "outputs": [],
   "source": [
    "df <- data.frame(country = data2021$Country_name,\n",
    "  value = data2021$Healthy.life.expectancy)\n",
    "\n",
    "j <- joinCountryData2Map(df, joinCode = \"NAME\", nameJoinColumn = \"country\")\n",
    "\n",
    "mapCountryData(j, nameColumnToPlot = \"value\", \n",
    "               mapTitle = \"World map - healthy life expectancy\", \n",
    "               colourPalette = 'rainbow')\n",
    "options(repr.plot.width=25, repr.plot.height=15)"
   ]
  },
  {
   "cell_type": "code",
   "execution_count": null,
   "id": "0b6edc0d",
   "metadata": {},
   "outputs": [],
   "source": [
    "df <- data.frame(country = data2021$Country_name,\n",
    "  value = data2021$Freedom.to.make.life.choices)\n",
    "\n",
    "j <- joinCountryData2Map(df, joinCode = \"NAME\", nameJoinColumn = \"country\")\n",
    "\n",
    "mapCountryData(j, nameColumnToPlot = \"value\", \n",
    "               mapTitle = \"World map - freedom to make life choices\", \n",
    "               colourPalette = 'rainbow')\n",
    "options(repr.plot.width=25, repr.plot.height=15)"
   ]
  },
  {
   "cell_type": "code",
   "execution_count": null,
   "id": "5c89db68",
   "metadata": {
    "scrolled": false
   },
   "outputs": [],
   "source": [
    "df <- data.frame(country = data2021$Country_name,\n",
    "  value = data2021$Generosity)\n",
    "\n",
    "j <- joinCountryData2Map(df, joinCode = \"NAME\", nameJoinColumn = \"country\")\n",
    "\n",
    "mapCountryData(j, nameColumnToPlot = \"value\", \n",
    "               mapTitle = \"World map - generosity\", \n",
    "               colourPalette = 'rainbow')\n",
    "options(repr.plot.width=25, repr.plot.height=15)"
   ]
  },
  {
   "cell_type": "code",
   "execution_count": null,
   "id": "db9b8026",
   "metadata": {},
   "outputs": [],
   "source": [
    "df <- data.frame(country = data2021$Country_name,\n",
    "  value = data2021$Perceptions.of.corruption)\n",
    "\n",
    "j <- joinCountryData2Map(df, joinCode = \"NAME\", nameJoinColumn = \"country\")\n",
    "\n",
    "mapCountryData(j, nameColumnToPlot = \"value\", \n",
    "               mapTitle = \"World map - perceptions of corruption\", \n",
    "               colourPalette = 'rainbow')\n",
    "options(repr.plot.width=25, repr.plot.height=15)"
   ]
  },
  {
   "cell_type": "code",
   "execution_count": null,
   "id": "568c32a6",
   "metadata": {},
   "outputs": [],
   "source": [
    "df <- data.frame(country = data2021$Country_name,\n",
    "  value = data2021$Dystopia...residual)\n",
    "\n",
    "j <- joinCountryData2Map(df, joinCode = \"NAME\", nameJoinColumn = \"country\")\n",
    "\n",
    "mapCountryData(j, nameColumnToPlot = \"value\", \n",
    "               mapTitle = \"World map - Dystopia + residual\", \n",
    "               colourPalette = 'rainbow')\n",
    "options(repr.plot.width=25, repr.plot.height=15)"
   ]
  },
  {
   "cell_type": "markdown",
   "id": "1a8143fd",
   "metadata": {},
   "source": [
    "### Applying coordinates to countries based on capital city location ( world cities dataset)"
   ]
  },
  {
   "cell_type": "code",
   "execution_count": null,
   "id": "7205f5df",
   "metadata": {},
   "outputs": [],
   "source": [
    "data(world.cities)"
   ]
  },
  {
   "cell_type": "code",
   "execution_count": null,
   "id": "63af95bb",
   "metadata": {},
   "outputs": [],
   "source": [
    "dfLeaf <- world.cities %>%\n",
    "    filter(capital == 1) %>%\n",
    "    dplyr::select(country = country.etc, lat, lng = long) %>%\n",
    "    inner_join(data2021,by=c(\"country\"=\"Country_name\"))"
   ]
  },
  {
   "cell_type": "code",
   "execution_count": null,
   "id": "cdd3da21",
   "metadata": {},
   "outputs": [],
   "source": [
    "p<-leaflet(dfLeaf)%>%\n",
    "addProviderTiles(providers$CartoDB.Positron) %>%\n",
    "  addMarkers(lat=dfLeaf$lat, lng=dfLeaf$lng, clusterOptions = markerClusterOptions(),\n",
    "             popup= paste(dfLeaf$Happiness_score,\n",
    "        \"<br><strong>Country name: </strong>\", dfLeaf$country,\n",
    "        \"<br><strong>Happiness_score: </strong>\", dfLeaf$Happiness_score\n",
    "          ))\n",
    "htmlwidgets::saveWidget(p, 'map.html', selfcontained = FALSE)\n",
    "IRdisplay::display_html('<iframe width=100% height=1000 src=\"./map.html\"></iframe>')"
   ]
  },
  {
   "cell_type": "markdown",
   "id": "08330aa0",
   "metadata": {},
   "source": [
    "### Plotly R usage"
   ]
  },
  {
   "cell_type": "code",
   "execution_count": null,
   "id": "dfc53202",
   "metadata": {},
   "outputs": [],
   "source": [
    "codes <- read.csv('https://github.com/madrian98/WorldHappiness-R/blob/main/Data/plotly_countries_and_codes.csv?raw=true')\n",
    "colnames(codes)[1] <- 'Country_name'"
   ]
  },
  {
   "cell_type": "markdown",
   "id": "d6340d46",
   "metadata": {},
   "source": [
    "#### 2021 data preprocessing (plotly)"
   ]
  },
  {
   "cell_type": "code",
   "execution_count": null,
   "id": "42cc489f",
   "metadata": {},
   "outputs": [],
   "source": [
    "dfPlotmap <- merge(x = data2021, y = codes, by = 'Country_name', all.x = TRUE)\n",
    "dfPlotmap$CODE <- as.character(dfPlotmap$CODE)\n",
    "head(dfPlotmap,10)"
   ]
  },
  {
   "cell_type": "markdown",
   "id": "69f804fb",
   "metadata": {},
   "source": [
    "#### Missing codes fixing"
   ]
  },
  {
   "cell_type": "code",
   "execution_count": null,
   "id": "e219594a",
   "metadata": {},
   "outputs": [],
   "source": [
    "which(is.na(dfPlotmap$CODE))\n",
    "dfPlotmap$Country[c(29, 44, 53,63, 94,103, 124,130)]"
   ]
  },
  {
   "cell_type": "code",
   "execution_count": null,
   "id": "9aa8b71e",
   "metadata": {},
   "outputs": [],
   "source": [
    "dfPlotmap$CODE[c(29, 44, 53,63, 94, 103,124,130)] <- c(\"COG\", \"GMB\", \"HKG\",\"CIV\",\"MMR\",\"MKD\",\"KOR\",\"TWN\")"
   ]
  },
  {
   "cell_type": "markdown",
   "id": "808ef7a7",
   "metadata": {},
   "source": [
    "#### Historical data preprocessing"
   ]
  },
  {
   "cell_type": "code",
   "execution_count": null,
   "id": "01bad662",
   "metadata": {},
   "outputs": [],
   "source": [
    "dfPlotmapH <- merge(x = dataH, y = codes, by = 'Country_name', all.x = TRUE)\n",
    "dfPlotmapH$CODE <- as.character(dfPlotmapH$CODE)\n",
    "dfPlotmapH <-dfPlotmapH[order(dfPlotmapH$Country_name, dfPlotmapH$year),]\n",
    "head(dfPlotmapH,10)"
   ]
  },
  {
   "cell_type": "markdown",
   "id": "8136c181",
   "metadata": {},
   "source": [
    "###  Interactive historical maps"
   ]
  },
  {
   "cell_type": "code",
   "execution_count": null,
   "id": "4e45e610",
   "metadata": {},
   "outputs": [],
   "source": [
    "p <- plot_geo(dfPlotmapH, locationmode = 'ISO-3', colorscale=\"Rainbow\",colorbar = list(title = \"Happiness score\"),width = 1500,height=1000,title_font_size=22) %>%\n",
    "add_trace( z = ~dfPlotmapH$Happiness_score, locations = ~dfPlotmapH$CODE, frame=~dfPlotmapH$year) %>%\n",
    "layout(title = 'Happiness score 2005-2021')\n",
    "embed_notebook(p)"
   ]
  },
  {
   "cell_type": "code",
   "execution_count": null,
   "id": "88e4f0f9",
   "metadata": {},
   "outputs": [],
   "source": [
    "p <- plot_geo(dfPlotmapH, locationmode = 'ISO-3', colorscale=\"Rainbow\",colorbar = list(title = \"Logged GDP per capita\"),width = 1500,height=1000,title_font_size=22) %>%\n",
    "add_trace( z = ~dfPlotmapH$Log.GDP.per.capita, locations = ~dfPlotmapH$CODE, frame=~dfPlotmapH$year) %>%\n",
    " layout(title = 'Logged GDP per capita 2005-2021')\n",
    "embed_notebook(p)"
   ]
  },
  {
   "cell_type": "code",
   "execution_count": null,
   "id": "2978361b",
   "metadata": {},
   "outputs": [],
   "source": [
    "p <- plot_geo(dfPlotmapH, locationmode = 'ISO-3', colorscale=\"Rainbow\",colorbar = list(title = \"Social support\"),width = 1500,height=1000,title_font_size=22) %>%\n",
    "add_trace( z = ~dfPlotmapH$Social.support, locations = ~dfPlotmapH$CODE, frame=~dfPlotmapH$year) %>%\n",
    " layout(title = 'Social support 2005-2021')\n",
    "embed_notebook(p)"
   ]
  },
  {
   "cell_type": "code",
   "execution_count": null,
   "id": "3aa81188",
   "metadata": {},
   "outputs": [],
   "source": [
    "p <- plot_geo(dfPlotmapH, locationmode = 'ISO-3', colorscale=\"Rainbow\",colorbar = list(title = \"Healthy life expectancy\"),width = 1500,height=1000,title_font_size=22) %>%\n",
    "add_trace( z = ~dfPlotmapH$Healthy.life.expectancy.at.birth, locations = ~dfPlotmapH$CODE, frame=~dfPlotmapH$year) %>%\n",
    " layout(title = 'Healthy life expectancy 2005-2021')\n",
    "embed_notebook(p)"
   ]
  },
  {
   "cell_type": "code",
   "execution_count": null,
   "id": "cb2aca75",
   "metadata": {},
   "outputs": [],
   "source": [
    "p <- plot_geo(dfPlotmapH, locationmode = 'ISO-3', colorscale=\"Rainbow\",colorbar = list(title = \"Freedom to make life choices\"),width = 1500,height=1000,title_font_size=22) %>%\n",
    "add_trace( z = ~dfPlotmapH$Freedom.to.make.life.choices, locations = ~dfPlotmapH$CODE, frame=~dfPlotmapH$year) %>%\n",
    " layout(title = 'Freedom to make life choices 2005-2021')\n",
    "embed_notebook(p)"
   ]
  },
  {
   "cell_type": "code",
   "execution_count": null,
   "id": "c4994140",
   "metadata": {},
   "outputs": [],
   "source": [
    "p <- plot_geo(dfPlotmapH, locationmode = 'ISO-3', colorscale=\"Rainbow\",colorbar = list(title = \"Generosity\"),width = 1500,height=1000,title_font_size=22) %>%\n",
    "add_trace( z = ~dfPlotmapH$Generosity, locations = ~dfPlotmapH$CODE, frame=~dfPlotmapH$year) %>%\n",
    " layout(title = 'Generosity 2005-2021')\n",
    "embed_notebook(p)"
   ]
  },
  {
   "cell_type": "code",
   "execution_count": null,
   "id": "c255af62",
   "metadata": {},
   "outputs": [],
   "source": [
    "p <- plot_geo(dfPlotmapH, locationmode = 'ISO-3', colorscale=\"Rainbow\",colorbar = list(title = \"Perceptions of corruption\"),width = 1500,height=1000,title_font_size=22) %>%\n",
    "add_trace( z = ~dfPlotmapH$Perceptions.of.corruption, locations = ~dfPlotmapH$CODE, frame=~dfPlotmapH$year) %>%\n",
    " layout(title = 'Perceptions of corruption 2005-2021')\n",
    "embed_notebook(p)"
   ]
  },
  {
   "cell_type": "markdown",
   "id": "cdb659a6",
   "metadata": {},
   "source": [
    "# 4. Machine learning"
   ]
  },
  {
   "cell_type": "markdown",
   "id": "947e602a",
   "metadata": {},
   "source": [
    "## 4.1 Supervised learning"
   ]
  },
  {
   "cell_type": "markdown",
   "id": "f0e3ff08",
   "metadata": {},
   "source": [
    "### Regression"
   ]
  },
  {
   "cell_type": "markdown",
   "id": "23bb304a",
   "metadata": {},
   "source": [
    "#### Data preprocessing & Splitting sets on training/test (80/20)"
   ]
  },
  {
   "cell_type": "code",
   "execution_count": null,
   "id": "4b74130d",
   "metadata": {},
   "outputs": [],
   "source": [
    "dataML <- data2021 %>% dplyr::select(3,7,8,9,10,11,12,20)\n",
    "head(dataML,10)"
   ]
  },
  {
   "cell_type": "code",
   "execution_count": null,
   "id": "cdc08cf6",
   "metadata": {},
   "outputs": [],
   "source": [
    "split = sample.split(dataML$Happiness_score, SplitRatio=0.8)\n",
    "training_set = subset(dataML, split == TRUE)\n",
    "test_set = subset(dataML, split == FALSE)\n",
    "preProcValues <- preProcess(training_set, method = c(\"center\", \"scale\"))\n",
    "training_set <- predict(preProcValues, training_set)\n",
    "test_set <- predict(preProcValues, test_set)"
   ]
  },
  {
   "cell_type": "markdown",
   "id": "e08992fd",
   "metadata": {},
   "source": [
    "### Linear regression"
   ]
  },
  {
   "cell_type": "markdown",
   "id": "a986569e",
   "metadata": {},
   "source": [
    "#### Model fitting"
   ]
  },
  {
   "cell_type": "code",
   "execution_count": null,
   "id": "e8050ffe",
   "metadata": {},
   "outputs": [],
   "source": [
    "set.seed(123)\n",
    "regressor_lm = lm(formula = Happiness_score ~ .,data = training_set)\n",
    "y_pred_lm = predict(regressor_lm, newdata = test_set)\n",
    "Pred_Actual_lm <- as.data.frame(cbind(Prediction = y_pred_lm, Actual = test_set$Happiness_score))\n",
    "summary(regressor_lm)"
   ]
  },
  {
   "cell_type": "code",
   "execution_count": null,
   "id": "65b2e068",
   "metadata": {},
   "outputs": [],
   "source": [
    "gg.lm <- ggplot(Pred_Actual_lm, aes(Actual, Prediction )) + theme_bw() + geom_abline() +\n",
    "  labs(title = \"Linear Regression\", x = \"Real results\",\n",
    "       y = \"Linear regression results\") +\n",
    "        theme(axis.text.x = element_text(size = 14,face = \"bold\"), axis.title.x = element_text(size = 14,face = \"bold\"),\n",
    "        axis.text.y = element_text(size = 14,face = \"bold\"), axis.title.y = element_text(size = 16,face = \"bold\"),\n",
    "        plot.title = element_text(size = 20, face = \"bold\", color = \"darkgreen\"),\n",
    "       legend.text = element_text(size = 25,face = \"bold\"),legend.title=element_text(size=25,face = \"bold\"))+\n",
    "  scale_fill_viridis(option = \"D\",discrete = T)+geom_point(colour = \"red\", size = 5)\n",
    "gg.lm"
   ]
  },
  {
   "cell_type": "markdown",
   "id": "b4cd4a06",
   "metadata": {},
   "source": [
    "### SVM Regression"
   ]
  },
  {
   "cell_type": "markdown",
   "id": "5b33aa72",
   "metadata": {},
   "source": [
    "#### Model fitting"
   ]
  },
  {
   "cell_type": "code",
   "execution_count": null,
   "id": "def3e829",
   "metadata": {},
   "outputs": [],
   "source": [
    "set.seed(123)\n",
    "regressor_svr = train(Happiness_score ~ .,training_set,method='svmLinear')\n",
    "y_pred_svr = predict(regressor_svr,  newdata = test_set)\n",
    "Pred_Actual_svr <- as.data.frame(cbind(Prediction = y_pred_svr, Actual = test_set$Happiness_score))\n",
    "summary(regressor_svr)"
   ]
  },
  {
   "cell_type": "code",
   "execution_count": null,
   "id": "aca7d9ce",
   "metadata": {},
   "outputs": [],
   "source": [
    "gg.svr <- ggplot(Pred_Actual_svr, aes(Actual, Prediction ))  + theme_bw() + geom_abline() +\n",
    "  labs(title = \"SVR Regression\", x = \"Real results\",\n",
    "       y = \"SVR Regression results\") +\n",
    "         theme_bw() +\n",
    "theme(axis.text.x = element_text(size = 14,face = \"bold\"), axis.title.x = element_text(size = 14,face = \"bold\"),\n",
    "        axis.text.y = element_text(size = 14,face = \"bold\"), axis.title.y = element_text(size = 16,face = \"bold\"),\n",
    "        plot.title = element_text(size = 20, face = \"bold\", color = \"darkgreen\"),\n",
    "       legend.text = element_text(size = 25,face = \"bold\"),legend.title=element_text(size=25,face = \"bold\"))+\n",
    "  scale_fill_viridis(option = \"D\",discrete = T)+geom_point(colour = \"red\", size = 5)\n",
    "gg.svr"
   ]
  },
  {
   "cell_type": "markdown",
   "id": "5b60e2b2",
   "metadata": {},
   "source": [
    "### Decision Tree regression"
   ]
  },
  {
   "cell_type": "markdown",
   "id": "757c7994",
   "metadata": {},
   "source": [
    "#### Model fitting"
   ]
  },
  {
   "cell_type": "code",
   "execution_count": null,
   "id": "144710c4",
   "metadata": {},
   "outputs": [],
   "source": [
    "set.seed(123)\n",
    "regressor_dt = train(Happiness_score ~ .,training_set,method='rpart')\n",
    "y_pred_dt = predict(regressor_dt, newdata = test_set)\n",
    "Pred_Actual_dt <- as.data.frame(cbind(Prediction = y_pred_dt, Actual = test_set$Happiness_score))"
   ]
  },
  {
   "cell_type": "code",
   "execution_count": null,
   "id": "bfb47e42",
   "metadata": {},
   "outputs": [],
   "source": [
    "gg.dt <- ggplot(Pred_Actual_dt, aes(Actual, Prediction )) + theme_bw() + geom_abline() +\n",
    "  labs(title = \"Decision Tree Regression\", x = \"Real results\",\n",
    "       y = \"Decision Tree Regression Results \") +\n",
    "                theme_bw() +\n",
    "theme(axis.text.x = element_text(size = 14,face = \"bold\"), axis.title.x = element_text(size = 14,face = \"bold\"),\n",
    "        axis.text.y = element_text(size = 14,face = \"bold\"), axis.title.y = element_text(size = 16,face = \"bold\"),\n",
    "        plot.title = element_text(size = 20, face = \"bold\", color = \"darkgreen\"),\n",
    "       legend.text = element_text(size = 25,face = \"bold\"),legend.title=element_text(size=25,face = \"bold\"))+\n",
    "  scale_fill_viridis(option = \"D\",discrete = T)+geom_point(colour = \"red\", size = 5)\n",
    "gg.dt"
   ]
  },
  {
   "cell_type": "markdown",
   "id": "86c149b8",
   "metadata": {},
   "source": [
    "### Random Forest Regression"
   ]
  },
  {
   "cell_type": "markdown",
   "id": "b0ed8c02",
   "metadata": {},
   "source": [
    "####  Model fitting"
   ]
  },
  {
   "cell_type": "code",
   "execution_count": null,
   "id": "e7b2aec1",
   "metadata": {},
   "outputs": [],
   "source": [
    "set.seed(123)\n",
    "regressor_rf = train(Happiness_score ~ .,training_set,method='rf')\n",
    "y_pred_rf = predict(regressor_rf, newdata = test_set)\n",
    "Pred_Actual_rf <- as.data.frame(cbind(Prediction = y_pred_rf, Actual = test_set$Happiness_score))\n",
    "summary(regressor_rf)"
   ]
  },
  {
   "cell_type": "code",
   "execution_count": null,
   "id": "40f61f55",
   "metadata": {},
   "outputs": [],
   "source": [
    "gg.rf <- ggplot(Pred_Actual_rf, aes(Actual, Prediction )) +theme_bw() + geom_abline() +\n",
    "  labs(title = \"Random Forest Regression\", x = \"Real results\",\n",
    "       y = \"Random Forest Regression results\") +\n",
    "        theme(axis.text.x = element_text(size = 14,face = \"bold\"), axis.title.x = element_text(size = 14,face = \"bold\"),\n",
    "        axis.text.y = element_text(size = 14,face = \"bold\"), axis.title.y = element_text(size = 16,face = \"bold\"),\n",
    "        plot.title = element_text(size = 20, face = \"bold\", color = \"darkgreen\"),\n",
    "       legend.text = element_text(size = 25,face = \"bold\"),legend.title=element_text(size=25,face = \"bold\"))+\n",
    "  scale_fill_viridis(option = \"D\",discrete = T)+geom_point(colour = \"red\", size = 5)\n",
    "gg.rf"
   ]
  },
  {
   "cell_type": "markdown",
   "id": "43c5aa9f",
   "metadata": {},
   "source": [
    "### ElasticNet Regression"
   ]
  },
  {
   "cell_type": "markdown",
   "id": "32fff341",
   "metadata": {},
   "source": [
    "####  Model fitting"
   ]
  },
  {
   "cell_type": "code",
   "execution_count": null,
   "id": "f112cd26",
   "metadata": {},
   "outputs": [],
   "source": [
    "set.seed(123)\n",
    "regressor_en <- train(Happiness_score ~ .,training_set,method='glmnet')\n",
    "y_pred_en = predict(regressor_en,  newdata = test_set)\n",
    "Pred_Actual_en <- as.data.frame(cbind(Prediction = y_pred_en, Actual = test_set$Happiness_score))\n",
    "summary(regressor_en)"
   ]
  },
  {
   "cell_type": "code",
   "execution_count": null,
   "id": "b93bff54",
   "metadata": {},
   "outputs": [],
   "source": [
    "gg.en <- ggplot(Pred_Actual_en, aes(Actual, Prediction )) +\n",
    " theme_bw() + geom_abline() +\n",
    "  labs(title = \"Elastic Net Regression\", x = \"Real results\",\n",
    "       y = \"Elastic Net Regression results\") +\n",
    "       theme(axis.text.x = element_text(size = 14,face = \"bold\"), axis.title.x = element_text(size = 14,face = \"bold\"),\n",
    "        axis.text.y = element_text(size = 14,face = \"bold\"), axis.title.y = element_text(size = 16,face = \"bold\"),\n",
    "        plot.title = element_text(size = 20, face = \"bold\", color = \"darkgreen\"),\n",
    "       legend.text = element_text(size = 25,face = \"bold\"),legend.title=element_text(size=25,face = \"bold\"))+\n",
    "  scale_fill_viridis(option = \"D\",discrete = T)+geom_point(colour = \"red\", size = 5)\n",
    "gg.en"
   ]
  },
  {
   "cell_type": "markdown",
   "id": "88033b55",
   "metadata": {},
   "source": [
    "### Ridge Regression"
   ]
  },
  {
   "cell_type": "markdown",
   "id": "204cd918",
   "metadata": {},
   "source": [
    "####  Model fitting"
   ]
  },
  {
   "cell_type": "code",
   "execution_count": null,
   "id": "30777caf",
   "metadata": {},
   "outputs": [],
   "source": [
    "set.seed(123)\n",
    "regressor_ridg <- train(Happiness_score ~ .,training_set,method='ridge')\n",
    "y_pred_ridg = predict(regressor_ridg,  newdata = test_set)\n",
    "Pred_Actual_ridg <- as.data.frame(cbind(Prediction = y_pred_ridg, Actual = test_set$Happiness_score))\n",
    "summary(regressor_ridg)"
   ]
  },
  {
   "cell_type": "code",
   "execution_count": null,
   "id": "17cb2049",
   "metadata": {},
   "outputs": [],
   "source": [
    "gg.ridg <- ggplot(Pred_Actual_ridg, aes(Actual, Prediction )) + theme_bw() + geom_abline() +\n",
    "  labs(title = \"Ridge Regression\", x = \"Real results\",\n",
    "       y = \"Ridge regression results\") +\n",
    "       theme(axis.text.x = element_text(size = 14,face = \"bold\"), axis.title.x = element_text(size = 14,face = \"bold\"),\n",
    "        axis.text.y = element_text(size = 14,face = \"bold\"), axis.title.y = element_text(size = 16,face = \"bold\"),\n",
    "        plot.title = element_text(size = 20, face = \"bold\", color = \"darkgreen\"),\n",
    "       legend.text = element_text(size = 25,face = \"bold\"),legend.title=element_text(size=25,face = \"bold\"))+\n",
    "  scale_fill_viridis(option = \"D\",discrete = T)+geom_point(colour = \"red\", size = 5)\n",
    "gg.ridg"
   ]
  },
  {
   "cell_type": "markdown",
   "id": "8d718df2",
   "metadata": {},
   "source": [
    "### K Nearest Neighbors Regression"
   ]
  },
  {
   "cell_type": "markdown",
   "id": "cb3eb8eb",
   "metadata": {},
   "source": [
    "#### Model fitting"
   ]
  },
  {
   "cell_type": "code",
   "execution_count": null,
   "id": "a311278c",
   "metadata": {},
   "outputs": [],
   "source": [
    "#set.seed(123)\n",
    "#regressor_knn <- train(Happiness_score ~ .,training_set,method='kknn')\n",
    "#y_pred_knn = predict(regressor_knn,  newdata = test_set)\n",
    "#Pred_Actual_knn <- as.data.frame(cbind(Prediction = y_pred_knn, Actual = test_set$Happiness_score))\n",
    "#summary(regressor_knn)"
   ]
  },
  {
   "cell_type": "code",
   "execution_count": null,
   "id": "1d6d6fdc",
   "metadata": {},
   "outputs": [],
   "source": [
    "#gg.knn <- ggplot(Pred_Actual_knn, aes(Actual, Prediction )) +theme_bw() + geom_abline() +\n",
    "  #labs(title = \"K Nearest Neighbors Regression \", x = \"Real results\",\n",
    "       #y = \"K Nearest Neighbors Regression results\") +\n",
    "        #theme(axis.text.x = element_text(size = 14,face = \"bold\"), axis.title.x = element_text(size = 14,face = \"bold\"),\n",
    "        #axis.text.y = element_text(size = 14,face = \"bold\"), axis.title.y = element_text(size = 16,face = \"bold\"),\n",
    "        #plot.title = element_text(size = 20, face = \"bold\", color = \"darkgreen\"),\n",
    "       #legend.text = element_text(size = 25,face = \"bold\"),legend.title=element_text(size=25,face = \"bold\"))+\n",
    "  #scale_fill_viridis(option = \"D\",discrete = T)+geom_point(colour = \"red\", size = 5)\n",
    "#gg.knn(Library not working in Binder , commented out)"
   ]
  },
  {
   "cell_type": "markdown",
   "id": "c3f87474",
   "metadata": {},
   "source": [
    "### Bayessian Ridge Regression"
   ]
  },
  {
   "cell_type": "markdown",
   "id": "599e208a",
   "metadata": {},
   "source": [
    "####  Model fitting"
   ]
  },
  {
   "cell_type": "code",
   "execution_count": null,
   "id": "22ade120",
   "metadata": {},
   "outputs": [],
   "source": [
    "set.seed(123)\n",
    "regressor_bay <- train(Happiness_score ~ .,training_set,method='bayesglm')\n",
    "y_pred_bay = predict(regressor_bay,  newdata = test_set)\n",
    "Pred_Actual_bay <- as.data.frame(cbind(Prediction = y_pred_bay, Actual = test_set$Happiness_score))\n",
    "summary(regressor_bay)"
   ]
  },
  {
   "cell_type": "code",
   "execution_count": null,
   "id": "aee3601d",
   "metadata": {},
   "outputs": [],
   "source": [
    "gg.bayes <- ggplot(Pred_Actual_bay, aes(Actual, Prediction )) + theme_bw() + geom_abline() +\n",
    "  labs(title = \"Bayessian Ridge Regression \", x = \"Real results\",\n",
    "       y = \"Bayessian Ridge Regression results\") +\n",
    "        theme(axis.text.x = element_text(size = 14,face = \"bold\"), axis.title.x = element_text(size = 14,face = \"bold\"),\n",
    "        axis.text.y = element_text(size = 14,face = \"bold\"), axis.title.y = element_text(size = 16,face = \"bold\"),\n",
    "        plot.title = element_text(size = 20, face = \"bold\", color = \"darkgreen\"),\n",
    "       legend.text = element_text(size = 25,face = \"bold\"),legend.title=element_text(size=25,face = \"bold\"))+\n",
    "  scale_fill_viridis(option = \"D\",discrete = T)+geom_point(colour = \"red\", size = 5)\n",
    "gg.bayes"
   ]
  },
  {
   "cell_type": "markdown",
   "id": "404f8f57",
   "metadata": {},
   "source": [
    "### XGB Regression"
   ]
  },
  {
   "cell_type": "markdown",
   "id": "7848a255",
   "metadata": {},
   "source": [
    "#### Model fitting"
   ]
  },
  {
   "cell_type": "code",
   "execution_count": null,
   "id": "4d4eba77",
   "metadata": {},
   "outputs": [],
   "source": [
    "set.seed(123)\n",
    "regressor_xgb <- train(Happiness_score ~ .,training_set,method='xgbLinear')\n",
    "y_pred_xgb = predict(regressor_xgb,  newdata = test_set)\n",
    "Pred_Actual_xgb <- as.data.frame(cbind(Prediction = y_pred_xgb, Actual = test_set$Happiness_score))\n",
    "summary(regressor_xgb)"
   ]
  },
  {
   "cell_type": "code",
   "execution_count": null,
   "id": "68995d6d",
   "metadata": {},
   "outputs": [],
   "source": [
    "gg.xgb <- ggplot(Pred_Actual_xgb, aes(Actual, Prediction )) + theme_bw() + geom_abline() +\n",
    "  labs(title = \"XGB Regression \", x = \"Real results\",\n",
    "       y = \"XGB Regression results\") +\n",
    "        theme(axis.text.x = element_text(size = 14,face = \"bold\"), axis.title.x = element_text(size = 14,face = \"bold\"),\n",
    "        axis.text.y = element_text(size = 14,face = \"bold\"), axis.title.y = element_text(size = 16,face = \"bold\"),\n",
    "        plot.title = element_text(size = 20, face = \"bold\", color = \"darkgreen\"),\n",
    "       legend.text = element_text(size = 25,face = \"bold\"),legend.title=element_text(size=25,face = \"bold\"))+\n",
    "  scale_fill_viridis(option = \"D\",discrete = T)+geom_point(colour = \"red\", size = 5)\n",
    "gg.xgb"
   ]
  },
  {
   "cell_type": "markdown",
   "id": "009318dd",
   "metadata": {},
   "source": [
    "### Summary"
   ]
  },
  {
   "cell_type": "code",
   "execution_count": null,
   "id": "b8b1069f",
   "metadata": {},
   "outputs": [],
   "source": [
    "ggarrange(gg.lm, gg.svr, gg.dt, gg.rf,gg.en,gg.ridg,gg.bayes,gg.xgb , ncol = 3, nrow = 3)\n",
    "options(repr.plot.width=50, repr.plot.height=45)"
   ]
  },
  {
   "cell_type": "markdown",
   "id": "5b2bf8e5",
   "metadata": {},
   "source": [
    "## 4.2 Unsupervised learning (clustering)"
   ]
  },
  {
   "cell_type": "markdown",
   "id": "e32e1ce1",
   "metadata": {},
   "source": [
    "###  Data normalization"
   ]
  },
  {
   "cell_type": "code",
   "execution_count": null,
   "id": "541fe49d",
   "metadata": {},
   "outputs": [],
   "source": [
    "dfClusters <- dfPlotmap%>% dplyr::select(3,7,8,9,10,11,12,20)\n",
    "dfClusters <- scale(dfClusters)"
   ]
  },
  {
   "cell_type": "markdown",
   "id": "ea5c8a8f",
   "metadata": {},
   "source": [
    "### K-means clustering"
   ]
  },
  {
   "cell_type": "code",
   "execution_count": null,
   "id": "3b4422cb",
   "metadata": {},
   "outputs": [],
   "source": [
    "k = 8 # number of clusters\n",
    "clusters <- kmeans(dfClusters, k)\n",
    "df$Cluster1 <- as.factor(clusters$cluster)"
   ]
  },
  {
   "cell_type": "markdown",
   "id": "dafe2cd7",
   "metadata": {},
   "source": [
    "#### Cluster groups"
   ]
  },
  {
   "cell_type": "code",
   "execution_count": null,
   "id": "0db23cbb",
   "metadata": {},
   "outputs": [],
   "source": [
    "dfPlotmap%>% dplyr::select(3,7,8,9,10,11,12,20) %>%\n",
    "  mutate(Cluster = df$Cluster1) %>%\n",
    "  group_by(Cluster) %>%\n",
    "  summarise_all(\"mean\")"
   ]
  },
  {
   "cell_type": "code",
   "execution_count": null,
   "id": "e8f18466",
   "metadata": {},
   "outputs": [],
   "source": [
    "p<-plot_ly(type = 'choropleth', text = dfPlotmap$Country_name, locations = dfPlotmap$CODE, colorscale=\"Rainbow\",\n",
    "        colorbar = list(title = \"Cluster group\"),\n",
    "        locationmode = 'ISO-3', z = df$Cluster1, width = 1500,height=1000) %>% \n",
    "        layout(title = 'K-means clustering',\n",
    "         geo = list(showframe = TRUE, showcoastlines = TRUE,showcountries=TRUE),\n",
    "         margin = list(l = 0, r = 0, b = 0, t = 30,projection = list(type = 'Mercator')),title_font_size=22,\n",
    "            autosize = F)\n",
    "embed_notebook(p)"
   ]
  },
  {
   "cell_type": "markdown",
   "id": "06ca77df",
   "metadata": {},
   "source": [
    "### Hierarchical Agglomerative clustering"
   ]
  },
  {
   "cell_type": "code",
   "execution_count": null,
   "id": "3bddb06f",
   "metadata": {},
   "outputs": [],
   "source": [
    "d <- dist(dfClusters, method = 'euclidean')\n",
    "fit <- hclust(d, method = 'ward.D')\n",
    "groups <- cutree(fit, k = 8)\n",
    "df$Cluster2 <- groups"
   ]
  },
  {
   "cell_type": "markdown",
   "id": "6b89ff32",
   "metadata": {},
   "source": []
  },
  {
   "cell_type": "markdown",
   "id": "2d3f8364",
   "metadata": {},
   "source": [
    "#### Cluster groups"
   ]
  },
  {
   "cell_type": "code",
   "execution_count": null,
   "id": "0e92bd88",
   "metadata": {},
   "outputs": [],
   "source": [
    "dfPlotmap%>% dplyr::select(3,7,8,9,10,11,12,20) %>%\n",
    "  mutate(Cluster = df$Cluster2) %>%\n",
    "  group_by(Cluster) %>%\n",
    "  summarise_all(\"mean\")"
   ]
  },
  {
   "cell_type": "code",
   "execution_count": null,
   "id": "440b7d89",
   "metadata": {},
   "outputs": [],
   "source": [
    "p<-plot_ly(type = 'choropleth', text = dfPlotmap$Country_name, locations = dfPlotmap$CODE, colorscale=\"Rainbow\",\n",
    "        colorbar = list(title = \"Cluster group\"),\n",
    "        locationmode = 'ISO-3', z = df$Cluster2, width = 1500,height=1000) %>% \n",
    "        layout(title = 'Hierarchical Agglomerative clustering',\n",
    "         geo = list(showframe = TRUE, showcoastlines = TRUE,showcountries=TRUE),\n",
    "         margin = list(l = 0, r = 0, b = 0, t = 30,projection = list(type = 'Mercator')),title_font_size=22,\n",
    "            autosize = F)\n",
    "embed_notebook(p)"
   ]
  },
  {
   "cell_type": "markdown",
   "id": "84dcadb9",
   "metadata": {},
   "source": [
    "### Hierarchical K-Means Clustering"
   ]
  },
  {
   "cell_type": "code",
   "execution_count": null,
   "id": "7acadbe1",
   "metadata": {},
   "outputs": [],
   "source": [
    "fit <- hkmeans(dfClusters, 8)\n",
    "df$Cluster3 <- fit$cluster"
   ]
  },
  {
   "cell_type": "markdown",
   "id": "c6dde82d",
   "metadata": {},
   "source": [
    "#### Cluster groups"
   ]
  },
  {
   "cell_type": "code",
   "execution_count": null,
   "id": "dbb33614",
   "metadata": {},
   "outputs": [],
   "source": [
    "dfPlotmap%>% dplyr::select(3,7,8,9,10,11,12,20) %>%\n",
    "  mutate(Cluster = df$Cluster3) %>%\n",
    "  group_by(Cluster) %>%\n",
    "  summarise_all(\"mean\")"
   ]
  },
  {
   "cell_type": "code",
   "execution_count": null,
   "id": "0da35c8d",
   "metadata": {},
   "outputs": [],
   "source": [
    "p<-plot_ly(type = 'choropleth', text = dfPlotmap$Country_name, locations = dfPlotmap$CODE, colorscale=\"Rainbow\",\n",
    "        colorbar = list(title = \"Cluster group\"),\n",
    "        locationmode = 'ISO-3', z = df$Cluster3, width = 1500,height=1000) %>% \n",
    "        layout(title = 'Hierarchive  K-means clustering',\n",
    "         geo = list(showframe = TRUE, showcoastlines = TRUE,showcountries=TRUE),\n",
    "         margin = list(l = 0, r = 0, b = 0, t = 30,projection = list(type = 'Mercator')),title_font_size=22,\n",
    "            autosize = F)\n",
    "embed_notebook(p)"
   ]
  },
  {
   "cell_type": "markdown",
   "id": "4f47e881",
   "metadata": {},
   "source": [
    "###  DBSCAN clustering"
   ]
  },
  {
   "cell_type": "code",
   "execution_count": null,
   "id": "22e6380a",
   "metadata": {},
   "outputs": [],
   "source": [
    "dbFit<-fpc::dbscan(dfClusters, eps=1.5 ,MinPts=8)\n",
    "df$Cluster4 <- dbFit$cluster"
   ]
  },
  {
   "cell_type": "markdown",
   "id": "55a36dab",
   "metadata": {},
   "source": [
    "#### Cluster groups"
   ]
  },
  {
   "cell_type": "code",
   "execution_count": null,
   "id": "2216d20d",
   "metadata": {},
   "outputs": [],
   "source": [
    "dfPlotmap%>% dplyr::select(3,7,8,9,10,11,12,20) %>%\n",
    "  mutate(Cluster = df$Cluster4) %>%\n",
    "  group_by(Cluster) %>%\n",
    "  summarise_all(\"mean\")"
   ]
  },
  {
   "cell_type": "code",
   "execution_count": null,
   "id": "8edaecd2",
   "metadata": {},
   "outputs": [],
   "source": [
    "p<-plot_ly(type = 'choropleth', text = dfPlotmap$Country_name, locations = dfPlotmap$CODE, colorscale=\"Jet\",\n",
    "        colorbar = list(title = \"Cluster group\"),\n",
    "        locationmode = 'ISO-3', z = df$Cluster4, width = 1500,height=1000) %>% \n",
    "        layout(title = 'DBSCAN clustering',\n",
    "         geo = list(showframe = TRUE, showcoastlines = TRUE,showcountries=TRUE),\n",
    "         margin = list(l = 0, r = 0, b = 0, t = 30,projection = list(type = 'Mercator')),title_font_size=22,\n",
    "            autosize = F)\n",
    "embed_notebook(p)"
   ]
  },
  {
   "cell_type": "markdown",
   "id": "e69e0260",
   "metadata": {},
   "source": [
    "### C-means clustering"
   ]
  },
  {
   "cell_type": "code",
   "execution_count": null,
   "id": "e787d7fc",
   "metadata": {},
   "outputs": [],
   "source": [
    "k=8#number of clusters\n",
    "cmeansFit <- cmeans(dfClusters, k, m=2, method=\"cmeans\")\n",
    "df$Cluster5 <- cmeansFit$cluster"
   ]
  },
  {
   "cell_type": "markdown",
   "id": "f256310d",
   "metadata": {},
   "source": [
    "#### Cluster groups"
   ]
  },
  {
   "cell_type": "code",
   "execution_count": null,
   "id": "4fc8eade",
   "metadata": {},
   "outputs": [],
   "source": [
    "dfPlotmap%>% dplyr::select(3,7,8,9,10,11,12,20) %>%\n",
    "  mutate(Cluster = df$Cluster5) %>%\n",
    "  group_by(Cluster) %>%\n",
    "  summarise_all(\"mean\")"
   ]
  },
  {
   "cell_type": "code",
   "execution_count": null,
   "id": "049ebb18",
   "metadata": {},
   "outputs": [],
   "source": [
    "p<-plot_ly(type = 'choropleth', text = dfPlotmap$Country_name, locations = dfPlotmap$CODE, colorscale=\"Rainbow\",\n",
    "        colorbar = list(title = \"Cluster group\"),\n",
    "        locationmode = 'ISO-3', z = df$Cluster5, width = 1500,height=1000) %>% \n",
    "        layout(title = 'C-means clustering',\n",
    "         geo = list(showframe = TRUE, showcoastlines = TRUE,showcountries=TRUE),\n",
    "         margin = list(l = 0, r = 0, b = 0, t = 30,projection = list(type = 'Mercator')),title_font_size=22,\n",
    "            autosize = F)\n",
    "embed_notebook(p)"
   ]
  },
  {
   "cell_type": "markdown",
   "id": "d8540e67",
   "metadata": {},
   "source": [
    "### Gaussian Mixture Clustering"
   ]
  },
  {
   "cell_type": "code",
   "execution_count": null,
   "id": "c248f280",
   "metadata": {},
   "outputs": [],
   "source": [
    "GMMfit <- Mclust(dfClusters, 8)"
   ]
  },
  {
   "cell_type": "markdown",
   "id": "fa116a1d",
   "metadata": {},
   "source": [
    "#### Cluster groups"
   ]
  },
  {
   "cell_type": "code",
   "execution_count": null,
   "id": "ebf3f722",
   "metadata": {},
   "outputs": [],
   "source": [
    "dfPlotmap%>% dplyr::select(3,7,8,9,10,11,12,20) %>%\n",
    "  mutate(Cluster = GMMfit$classification) %>%\n",
    "  group_by(Cluster) %>%\n",
    "  summarise_all(\"mean\")"
   ]
  },
  {
   "cell_type": "code",
   "execution_count": null,
   "id": "a997f9e3",
   "metadata": {},
   "outputs": [],
   "source": [
    "p<-plot_ly(type = 'choropleth', text = dfPlotmap$Country_name, locations = dfPlotmap$CODE, colorscale=\"Jet\",\n",
    "        colorbar = list(title = \"Cluster group\"),\n",
    "        locationmode = 'ISO-3', z = GMMfit$classification, width = 1500,height=1000) %>% \n",
    "        layout(title = 'Gaussian Mixture clustering',\n",
    "         geo = list(showframe = TRUE, showcoastlines = TRUE,showcountries=TRUE),\n",
    "         margin = list(l = 0, r = 0, b = 0, t =30,p=0,projection = list(type = 'Mercator')),title_font_size=22,\n",
    "            autosize = F)\n",
    "embed_notebook(p)"
   ]
  }
 ],
 "metadata": {
  "kernelspec": {
   "display_name": "R",
   "language": "R",
   "name": "ir"
  },
  "language_info": {
   "codemirror_mode": "r",
   "file_extension": ".r",
   "mimetype": "text/x-r-source",
   "name": "R",
   "pygments_lexer": "r",
   "version": "4.2.2"
  }
 },
 "nbformat": 4,
 "nbformat_minor": 5
}
